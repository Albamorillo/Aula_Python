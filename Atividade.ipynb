{
 "cells": [
  {
   "cell_type": "code",
   "execution_count": 1,
   "id": "12388a53",
   "metadata": {},
   "outputs": [
    {
     "name": "stdout",
     "output_type": "stream",
     "text": [
      "Ola, mundo! Hoje é 26/07/2025 11:23:24\n"
     ]
    }
   ],
   "source": [
    "##1 - Conceitos basicos\n",
    "from datetime import datetime\n",
    "data = datetime.now()\n",
    "dara_e_hora = data.strftime(\"%d/%m/%Y %H:%M:%S\")\n",
    "print(f\"Ola, mundo! Hoje é {dara_e_hora}\")\n"
   ]
  },
  {
   "cell_type": "code",
   "execution_count": null,
   "id": "59112901",
   "metadata": {},
   "outputs": [
    {
     "name": "stdout",
     "output_type": "stream",
     "text": [
      "Bem-vindo ao Sistema, Alba Morillo!\n"
     ]
    }
   ],
   "source": [
    "##1.1- Manipulação de strings\n",
    "nome = input(\"Digite seu nome: \")\n",
    "sobrenome = input(\"Digite seu sobrenome: \")\n",
    "print(f\"Bem-vindo ao Sistema, {nome} {sobrenome}!\")"
   ]
  },
  {
   "cell_type": "code",
   "execution_count": null,
   "id": "cc654a2b",
   "metadata": {},
   "outputs": [
    {
     "name": "stdout",
     "output_type": "stream",
     "text": [
      "Terceira idade\n"
     ]
    }
   ],
   "source": [
    "##1.2 - Estruturas condicionais\n",
    "\n",
    "idade = int(input('Digite sua idade: '))\n",
    "if idade < 18:\n",
    "    print('Você é menor de idade')\n",
    "elif idade >= 18 and idade < 60:\n",
    "    print('Você é maior de idade')\n",
    "else:\n",
    "    print('Terceira idade')"
   ]
  },
  {
   "cell_type": "code",
   "execution_count": 18,
   "id": "550eeb80",
   "metadata": {},
   "outputs": [
    {
     "name": "stdout",
     "output_type": "stream",
     "text": [
      "Python\n",
      "Java\n",
      "JavaScript\n"
     ]
    },
    {
     "data": {
      "text/plain": [
       "'linguagens = input(\"Digite o nome de uma linguagem de programação: \")\\nif linguagem in linguagens:\\n    print(f\"{linguagem} está na lista.\")\\nelse:\\n    print(f\"{linguagem} não está na lista.\")'"
      ]
     },
     "execution_count": 18,
     "metadata": {},
     "output_type": "execute_result"
    }
   ],
   "source": [
    "##2 - Estrutura de controle e Listas - percorrendo Lista - Crie uma lista com nomes de tres linguagens \n",
    "# de programação e imprima cada um deles e use um for para exibir cada uma delas na tela.\n",
    "linguagens = [\"Python\", \"Java\", \"JavaScript\"]\n",
    "for linguagem in linguagens:\n",
    "   print(linguagem)\n",
    "\n",
    "\n",
    "'''linguagens = input(\"Digite o nome de uma linguagem de programação: \")\n",
    "if linguagem in linguagens:\n",
    "    print(f\"{linguagem} está na lista.\")\n",
    "else:\n",
    "    print(f\"{linguagem} não está na lista.\")'''\n"
   ]
  },
  {
   "cell_type": "code",
   "execution_count": 13,
   "id": "30843c20",
   "metadata": {},
   "outputs": [
    {
     "name": "stdout",
     "output_type": "stream",
     "text": [
      "\n",
      "===== CARRINHO DE COMPRAS =====\n",
      "1 - Adicionar produto\n",
      "2 - Ver produtos\n",
      "3 - Finalizar\n",
      "\n",
      "✅ 'maça' adicionado ao carrinho!\n",
      "\n",
      "===== CARRINHO DE COMPRAS =====\n",
      "1 - Adicionar produto\n",
      "2 - Ver produtos\n",
      "3 - Finalizar\n",
      "\n",
      "\n",
      "📦 Produtos no carrinho:\n",
      "1. maça\n",
      "\n",
      "===== CARRINHO DE COMPRAS =====\n",
      "1 - Adicionar produto\n",
      "2 - Ver produtos\n",
      "3 - Finalizar\n",
      "\n",
      "✅ 'sal' adicionado ao carrinho!\n",
      "\n",
      "===== CARRINHO DE COMPRAS =====\n",
      "1 - Adicionar produto\n",
      "2 - Ver produtos\n",
      "3 - Finalizar\n",
      "\n",
      "\n",
      "📦 Produtos no carrinho:\n",
      "1. maça\n",
      "2. sal\n",
      "\n",
      "===== CARRINHO DE COMPRAS =====\n",
      "1 - Adicionar produto\n",
      "2 - Ver produtos\n",
      "3 - Finalizar\n",
      "\n",
      "\n",
      "🧾 Finalizando...\n",
      "Produtos comprados:\n",
      "1. maça\n",
      "2. sal\n",
      "\n",
      "Obrigado por usar o carrinho de compras! 🛍️\n"
     ]
    }
   ],
   "source": [
    "## 2.1 - Simulando um carrinho de compras - Crie um programa que permite adicionar produtos a uma lista \n",
    "# e exiba os itens armazenados ao final.\n",
    "def exibir_menu():\n",
    "    print(\"\\n===== CARRINHO DE COMPRAS =====\")\n",
    "    print(\"1 - Adicionar produto\")\n",
    "    print(\"2 - Ver produtos\")\n",
    "    print(\"3 - Finalizar\\n\")\n",
    "\n",
    "carrinho = []\n",
    "\n",
    "while True:\n",
    "    exibir_menu()\n",
    "    escolha = input(\"Escolha uma opção: \")\n",
    "\n",
    "    if escolha == \"1\":\n",
    "        produto = input(\"Digite o nome do produto: \")\n",
    "        carrinho.append(produto)\n",
    "        print(f\"✅ '{produto}' adicionado ao carrinho!\")\n",
    "    elif escolha == \"2\":\n",
    "        if not carrinho:\n",
    "            print(\"🛒 O carrinho está vazio.\")\n",
    "        else:\n",
    "            print(\"\\n📦 Produtos no carrinho:\")\n",
    "            for i, item in enumerate(carrinho, start=1):\n",
    "                print(f\"{i}. {item}\")\n",
    "    elif escolha == \"3\":\n",
    "        print(\"\\n🧾 Finalizando...\\nProdutos comprados:\")\n",
    "        for i, item in enumerate(carrinho, start=1):\n",
    "            print(f\"{i}. {item}\")\n",
    "        print(\"\\nObrigado por usar o carrinho de compras! 🛍️\")\n",
    "        break\n",
    "    else:\n",
    "        print(\"⚠️ Opção inválida. Tente novamente.\")"
   ]
  },
  {
   "cell_type": "code",
   "execution_count": null,
   "id": "bd30d99c",
   "metadata": {},
   "outputs": [
    {
     "name": "stdout",
     "output_type": "stream",
     "text": [
      "\n",
      "=== Cadastro de Usuário ===\n",
      "\n",
      "=== Usuários Cadastrados ===\n",
      "\n",
      "Nome: alna\n",
      "Idade: 20\n",
      "Email: aj@\n"
     ]
    }
   ],
   "source": [
    "## 2.2 - Dicionarios de usuários - crie um dicionario para armazenar informações de usuários, \n",
    "# (nome, idade, email) e exiba os dados formados.\n",
    "usuarios = {}\n",
    "\n",
    "while True:\n",
    "    print(\"\\n=== Cadastro de Usuário ===\")\n",
    "    nome = input(\"Nome: \")\n",
    "    idade = input(\"Idade: \")\n",
    "    email = input(\"Email: \")\n",
    "    \n",
    "    # Adiciona o usuário ao dicionário\n",
    "    usuarios[nome] = {\n",
    "        'idade': idade,\n",
    "        'email': email\n",
    "    }\n",
    "    \n",
    "    continuar = input(\"Deseja adicionar outro usuário? (s/n): \")\n",
    "    if continuar.lower() != 's':\n",
    "        break\n",
    "\n",
    "# Exibe os dados dos usuários\n",
    "print(\"\\n=== Usuários Cadastrados ===\")\n",
    "for nome, dados in usuarios.items():\n",
    "    print(f\"\\nNome: {nome}\")\n",
    "    print(f\"Idade: {dados['idade']}\")\n",
    "    print(f\"Email: {dados['email']}\")"
   ]
  },
  {
   "cell_type": "code",
   "execution_count": null,
   "id": "9951c7f5",
   "metadata": {},
   "outputs": [
    {
     "name": "stdout",
     "output_type": "stream",
     "text": [
      "Bem-vindo(a), alba! Estamos felizes em tê-lo(a) conosco.\n"
     ]
    }
   ],
   "source": [
    "## 3 - Funções e modularização - Criando uma funçã de Boas-vindas.\n",
    "## Crie uma função chamada boas_vindas que receba um nome como parametro e retorne uma saudação \n",
    "# personalizada.\n",
    "def boas_vindas(nome):\n",
    "    return f\"Bem-vindo(a), {nome}! Estamos felizes em tê-lo(a) conosco.\"\n",
    "def main():\n",
    "    nome = input(\"Digite seu nome: \")\n",
    "    saudacao = boas_vindas(nome)\n",
    "    print(saudacao)\n",
    "\n",
    "if __name__ == \"__main__\":\n",
    "    main() "
   ]
  },
  {
   "cell_type": "code",
   "execution_count": null,
   "id": "49c1b204",
   "metadata": {},
   "outputs": [],
   "source": [
    "## 3.1 - Calculo de descontos - crie uma função chamada calcular_desconto(preco, desconto)\n",
    "#  que recebe um preço e um percentual de desconto e retorna o valor final do produto.\n",
    "def calcular_desconto(preco, desconto):\n",
    "    valor_desconto = preco * (desconto / 100)\n",
    "    preco_final = preco - valor_desconto\n",
    "    return preco_final"
   ]
  },
  {
   "cell_type": "code",
   "execution_count": null,
   "id": "dd133143",
   "metadata": {},
   "outputs": [
    {
     "name": "stdout",
     "output_type": "stream",
     "text": [
      "Digite um comando (digite 'sair' para encerrar):\n",
      "Comando 'a' registrado.\n",
      "Programa encerrado.\n"
     ]
    }
   ],
   "source": [
    "## 3.3 - Trabalhando com arquivos - Criando um arquivo de logos- \n",
    "# crie um programa que registre todas as ações do usuário em um arquivo log.txt. Sempre que o usuário \n",
    "# digitar um comando, ele deve ser registrado no arquivo.\n",
    "from datetime import datetime\n",
    "\n",
    "def registrar_log(mensagem):\n",
    "    with open(\"log.txt\", \"a\", encoding=\"utf-8\") as arquivo:\n",
    "        arquivo.write(f\"{datetime.now()}: {mensagem}\\n\")\n",
    "\n",
    "print(\"Digite um comando (digite 'S' para encerrar):\")\n",
    "\n",
    "while True:\n",
    "    comando = input(\"> \")\n",
    "    if comando.lower() == \"sair\":\n",
    "        registrar_log(\"O usuário encerrou o programa.\")\n",
    "        print(\"Programa encerrado.\")\n",
    "        break\n",
    "    registrar_log(comando)\n",
    "    print(f\"Comando '{comando}' registrado.\")\n"
   ]
  }
 ],
 "metadata": {
  "kernelspec": {
   "display_name": "Python 3",
   "language": "python",
   "name": "python3"
  },
  "language_info": {
   "codemirror_mode": {
    "name": "ipython",
    "version": 3
   },
   "file_extension": ".py",
   "mimetype": "text/x-python",
   "name": "python",
   "nbconvert_exporter": "python",
   "pygments_lexer": "ipython3",
   "version": "3.13.5"
  }
 },
 "nbformat": 4,
 "nbformat_minor": 5
}
