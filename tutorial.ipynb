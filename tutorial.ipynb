{
 "cells": [
  {
   "cell_type": "code",
   "execution_count": null,
   "id": "6fde1b4d",
   "metadata": {},
   "outputs": [
    {
     "name": "stdout",
     "output_type": "stream",
     "text": [
      "Hola Mundo\n",
      "nome Alba idade 31 altura 1.65 eh_maior True\n",
      "<class 'str'> <class 'int'> <class 'float'> <class 'bool'>\n"
     ]
    }
   ],
   "source": [
    "print('Hola Mundo')\n",
    "\n",
    "## 2- VARIABLES\n",
    "nome = 'Alba'\n",
    "idade = 31\n",
    "altura = 1.65\n",
    "eh_maior = True\n",
    "\n",
    "print('nome',nome, 'idade',idade, 'altura',altura, 'eh_maior',eh_maior)\n",
    "print(type(nome), type(idade), type(altura), type(eh_maior))\n"
   ]
  },
  {
   "cell_type": "code",
   "execution_count": 35,
   "id": "e5c5a81d",
   "metadata": {},
   "outputs": [
    {
     "name": "stdout",
     "output_type": "stream",
     "text": [
      "Ola, alba, voce tem 20 anos.\n"
     ]
    }
   ],
   "source": [
    "##3 - entrada de usuario\n",
    "nome = input('Digite seu nome: ')\n",
    "idade = int(input('Digite sua idade: '))\n",
    "\n",
    "print(f\"Ola, {nome}, voce tem {idade} anos.\")"
   ]
  },
  {
   "cell_type": "code",
   "execution_count": 7,
   "id": "1d2a9d64",
   "metadata": {},
   "outputs": [
    {
     "name": "stdout",
     "output_type": "stream",
     "text": [
      "voce pode votar, mas nao dirigir\n"
     ]
    }
   ],
   "source": [
    "## 4- Estruturas condicionais (if, else, elif)\n",
    "idade = int(input('Digite sua idade: '))\n",
    "if idade >= 18:\n",
    "    print('Voce e maior de idade')\n",
    "elif idade >= 16:\n",
    "    print('voce pode votar, mas nao dirigir')\n",
    "else:\n",
    "    print('voce e menor de idade')\n"
   ]
  },
  {
   "cell_type": "code",
   "execution_count": 13,
   "id": "86376780",
   "metadata": {},
   "outputs": [
    {
     "name": "stdout",
     "output_type": "stream",
     "text": [
      "maçã\n",
      "Contador: 0\n",
      "Contador: 1\n",
      "Contador: 2\n",
      "Contador: 3\n",
      "Contador: 4\n",
      "banana\n",
      "Contador: 0\n",
      "Contador: 1\n",
      "Contador: 2\n",
      "Contador: 3\n",
      "Contador: 4\n",
      "laranja\n",
      "Contador: 0\n",
      "Contador: 1\n",
      "Contador: 2\n",
      "Contador: 3\n",
      "Contador: 4\n"
     ]
    }
   ],
   "source": [
    "## 5 laços de repetição (for, while)\n",
    "## for (percorrer uma lista)\n",
    "\n",
    "frutas = ['maçã', 'banana', 'laranja']\n",
    "for fruta in frutas:\n",
    "    print(fruta)\n",
    "\n",
    "    ## while (executa ate uma condição ser falsa)\n",
    "    contador = 0\n",
    "\n",
    "    while contador < 5:\n",
    "        print('Contador:', contador)\n",
    "        contador += 1"
   ]
  },
  {
   "cell_type": "code",
   "execution_count": 14,
   "id": "9a17e643",
   "metadata": {},
   "outputs": [
    {
     "name": "stdout",
     "output_type": "stream",
     "text": [
      "Olá, Alba!\n"
     ]
    }
   ],
   "source": [
    "## 6- Funções\n",
    "def saudacao(nome):\n",
    "    return f\"Olá, {nome}!\"\n",
    "\n",
    "print(saudacao('Alba'))"
   ]
  },
  {
   "cell_type": "code",
   "execution_count": 18,
   "id": "8bd9bc15",
   "metadata": {},
   "outputs": [
    {
     "name": "stdout",
     "output_type": "stream",
     "text": [
      "3\n",
      "João\n",
      "25\n",
      "2 João idade 25\n"
     ]
    }
   ],
   "source": [
    "## 7- listas e dicionários\n",
    "## Listas\n",
    "numeros = [1, 2, 3, 4, 5]\n",
    "numeros.append(6)  # Adiciona um item\n",
    "print(numeros[2]) # Acessa o terceiro item (indice 2)\n",
    "\n",
    "## Dicionários\n",
    "pessoa = {\"nome\": \"Alba\", \"idade\": 31,}\n",
    "pessoa = {\"nome\": \"João\", \"idade\": 25,}\n",
    "\n",
    "print(pessoa[\"nome\"])  # Acessa o valor associado à chave \"nome\"\n",
    "print(pessoa[\"idade\"])  # Acessa o valor associado à chave \"idade\"\n",
    "\n",
    "print(numeros[1], pessoa['nome'], \"idade\", pessoa['idade'])"
   ]
  },
  {
   "cell_type": "code",
   "execution_count": null,
   "id": "d6fd6f59",
   "metadata": {},
   "outputs": [
    {
     "name": "stdout",
     "output_type": "stream",
     "text": [
      "PYTHON É INCRÍVEL\n",
      "python é incrível\n",
      "python é fantástico\n"
     ]
    }
   ],
   "source": [
    "## 8 - Manipulação de strings\n",
    "texto = \"python é incrível\"\n",
    "print(texto.upper())  # Converte para maiúsculas\n",
    "print(texto.lower())  # Converte para minúsculas\n",
    "print(texto.replace(\"incrível\", \"fantástico\"))  # Substitui uma parte da string\n",
    "#Sustitui palavras\n"
   ]
  },
  {
   "cell_type": "code",
   "execution_count": 23,
   "id": "67ac9e67",
   "metadata": {},
   "outputs": [
    {
     "name": "stdout",
     "output_type": "stream",
     "text": [
      "Olá, arquivo!\n"
     ]
    }
   ],
   "source": [
    "##9 - Trabalhando com arquivos\n",
    "#Criar e escrever em um arquivo\n",
    "with open('arquivo.txt', 'w') as arquivo:\n",
    "    arquivo.write(\"Olá, arquivo!\")\n",
    "\n",
    "# Ler o conteúdo do arquivo\n",
    "with open('exemplo.txt', 'r') as arquivo:\n",
    "    conteudo = arquivo.read()\n",
    "    print(conteudo)"
   ]
  },
  {
   "cell_type": "code",
   "execution_count": 34,
   "id": "84c83484",
   "metadata": {},
   "outputs": [
    {
     "name": "stdout",
     "output_type": "stream",
     "text": [
      "Erro: Entrada inválida. Por favor, digite um número válido.\n"
     ]
    }
   ],
   "source": [
    "##10- Tratamento de erros\n",
    "try:\n",
    "    numero = int(input(\"Digite um número: \"))\n",
    "    resultado = 10 / numero\n",
    "    print(f\"Resultado: {resultado}\")\n",
    "except ZeroDivisionError:\n",
    "    print(\"Erro: Não é possível dividir por zero.\")\n",
    "except ValueError:\n",
    "    print(\"Erro: Entrada inválida. Por favor, digite um número válido.\")"
   ]
  },
  {
   "cell_type": "markdown",
   "id": "20091430",
   "metadata": {},
   "source": [
    "hola"
   ]
  }
 ],
 "metadata": {
  "kernelspec": {
   "display_name": "Python 3",
   "language": "python",
   "name": "python3"
  },
  "language_info": {
   "codemirror_mode": {
    "name": "ipython",
    "version": 3
   },
   "file_extension": ".py",
   "mimetype": "text/x-python",
   "name": "python",
   "nbconvert_exporter": "python",
   "pygments_lexer": "ipython3",
   "version": "3.13.5"
  }
 },
 "nbformat": 4,
 "nbformat_minor": 5
}
